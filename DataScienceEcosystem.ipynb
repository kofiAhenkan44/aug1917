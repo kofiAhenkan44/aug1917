{
 "cells": [
  {
   "cell_type": "markdown",
   "id": "03f41c09-a102-47d8-84d5-9b42e024e254",
   "metadata": {},
   "source": [
    "# Data Science Tools and Ecosystem"
   ]
  },
  {
   "cell_type": "markdown",
   "id": "75ac2b1e-e60c-4df9-8178-62862981a131",
   "metadata": {},
   "source": [
    "**Introduction:** <br>\n",
    "In this notebook Data Science Tools and Ecosystem are summarized"
   ]
  },
  {
   "cell_type": "markdown",
   "id": "fdcbe786-81f2-4771-b57b-08f5a2a0c9d3",
   "metadata": {},
   "source": [
    "**Objectives:**\n",
    "- List popular languages for Data Science\n",
    "- List data science libraries\n",
    "- Create a single column table listing Data Science tools\n",
    "- Evaluate arithmetic expressions in Python"
   ]
  },
  {
   "attachments": {},
   "cell_type": "markdown",
   "id": "2cbf7768-9567-4eca-ae3e-9333932c05cf",
   "metadata": {},
   "source": [
    "Some of the popular languages that Data Scientists use are:\n",
    "1. Python\n",
    "2. R\n",
    "3. SQL\n",
    "4.Java\n",
    "5. C++"
   ]
  },
  {
   "cell_type": "markdown",
   "id": "a16a52ec-cbeb-4e1c-8a18-13f37bc2bf6a",
   "metadata": {},
   "source": [
    "Some of the commonly used libraries used by Data Scientists include:\n",
    "1. Pandas\n",
    "2. Matplotlib\n",
    "3.  Scikit-learn\n",
    "4. Keras\n",
    "5. TensorFlow"
   ]
  },
  {
   "cell_type": "markdown",
   "id": "827f1196-8dc6-4dfc-a73e-224e7168cc18",
   "metadata": {},
   "source": [
    "|Data Science tools|\n",
    "|------------------|\n",
    "|Jupyter Notebook|\n",
    "|Python|\n",
    "|Apache Spark|\n",
    "|R|"
   ]
  },
  {
   "cell_type": "markdown",
   "id": "ac77a2d1-4c49-49c1-a714-853e5e112364",
   "metadata": {},
   "source": [
    "### Consider the examples below used in evaluating arithmetic expressions in Python\n",
    "2*(3*4)\n",
    "(2*3)*4\n",
    "6+(7+8)\n",
    "(6+7)+8\n",
    "(6+6)/2\n",
    "6+(6/2)"
   ]
  },
  {
   "cell_type": "code",
   "execution_count": null,
   "id": "1a0da73d-d040-438a-a65c-37c5a79d2243",
   "metadata": {},
   "outputs": [],
   "source": [
    "(3*4)+5\n",
    "#This a simple arithmetic expression to mutiply then add integers"
   ]
  },
  {
   "cell_type": "code",
   "execution_count": null,
   "id": "584a345c-460b-48a4-9e66-3e9ad2acde2a",
   "metadata": {},
   "outputs": [],
   "source": [
    "# Below is an expression which converts 200 minutes to hours\n",
    "200/60"
   ]
  }
 ],
 "metadata": {
  "kernelspec": {
   "display_name": "Python 3 (ipykernel)",
   "language": "python",
   "name": "python3"
  },
  "language_info": {
   "codemirror_mode": {
    "name": "ipython",
    "version": 3
   },
   "file_extension": ".py",
   "mimetype": "text/x-python",
   "name": "python",
   "nbconvert_exporter": "python",
   "pygments_lexer": "ipython3",
   "version": "3.11.7"
  }
 },
 "nbformat": 4,
 "nbformat_minor": 5
}
