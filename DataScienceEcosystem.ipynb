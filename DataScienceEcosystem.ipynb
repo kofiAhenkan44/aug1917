{
 "cells": [
  {
   "cell_type": "markdown",
   "id": "ed77e15f-85e0-44c8-90ce-c424098b8c28",
   "metadata": {},
   "source": [
    "# Data Science Tools and Ecosystem"
   ]
  },
  {
   "cell_type": "markdown",
   "id": "0a88b8d6-7023-47af-ab03-24fd6343b1df",
   "metadata": {},
   "source": [
    "**Introduction:** <br>\n",
    "In this notebook Data Science Tools and Ecosystem are summarized"
   ]
  },
  {
   "cell_type": "markdown",
   "id": "adc5af7b-f865-44b8-845c-b7f976ab276c",
   "metadata": {},
   "source": [
    "**Objectives:**\n",
    "- List popular languages for Data Science\n",
    "- List data science libraries\n",
    "- Create a single column table listing Data Science tools\n",
    "- Evaluate arithmetic expressions in Python"
   ]
  },
  {
   "cell_type": "markdown",
   "id": "26f40769-210c-4f7f-aec3-eb40e8aa6b2b",
   "metadata": {},
   "source": [
    "Some of the popular languages that Data Scientists use are:\n",
    "1. Python\n",
    "2. R\n",
    "3. SQL\n",
    "4.Java\n",
    "5. C++"
   ]
  },
  {
   "cell_type": "markdown",
   "id": "94c8b1d6-351c-42f6-98e8-d752915749c8",
   "metadata": {},
   "source": [
    "Some of the commonly used libraries used by Data Scientists include:\n",
    "1. Pandas\n",
    "2. Matplotlib\n",
    "3.  Scikit-learn\n",
    "4. Keras\n",
    "5. TensorFlow"
   ]
  },
  {
   "cell_type": "markdown",
   "id": "89ddeb62-fee7-49dd-8e6e-9d53cdcda568",
   "metadata": {},
   "source": [
    "|Data Science tools|\n",
    "|------------------|\n",
    "|Jupyter Notebook|\n",
    "|Python|\n",
    "|Apache Spark|\n",
    "|R|"
   ]
  },
  {
   "cell_type": "markdown",
   "id": "a78e8376-c87a-4bc2-9879-60660dc94f11",
   "metadata": {},
   "source": [
    "### Consider the examples below used in evaluating arithmetic expressions in Python\n",
    "2*(3*4)\n",
    "(2*3)*4\n",
    "6+(7+8)\n",
    "(6+7)+8\n",
    "(6+6)/2\n",
    "6+(6/2)"
   ]
  },
  {
   "cell_type": "code",
   "execution_count": null,
   "id": "1a0da73d-d040-438a-a65c-37c5a79d2243",
   "metadata": {},
   "outputs": [],
   "source": [
    "(3*4)+5\n",
    "#This a simple arithmetic expression to mutiply then add integers"
   ]
  },
  {
   "cell_type": "code",
   "execution_count": null,
   "id": "584a345c-460b-48a4-9e66-3e9ad2acde2a",
   "metadata": {},
   "outputs": [],
   "source": [
    "# Below is an expression which converts 200 minutes to hours\n",
    "200/60"
   ]
  },
  {
   "cell_type": "markdown",
   "id": "1ac172f8-b9ac-47da-8035-9e5d988a6e3c",
   "metadata": {},
   "source": [
    "## Author\n",
    "Michael Kofi Ahenkan"
   ]
  }
 ],
 "metadata": {
  "kernelspec": {
   "display_name": "Python 3 (ipykernel)",
   "language": "python",
   "name": "python3"
  },
  "language_info": {
   "codemirror_mode": {
    "name": "ipython",
    "version": 3
   },
   "file_extension": ".py",
   "mimetype": "text/x-python",
   "name": "python",
   "nbconvert_exporter": "python",
   "pygments_lexer": "ipython3",
   "version": "3.11.7"
  }
 },
 "nbformat": 4,
 "nbformat_minor": 5
}
