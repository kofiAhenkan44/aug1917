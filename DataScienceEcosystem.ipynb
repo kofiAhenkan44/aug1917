{
 "cells": [
  {
   "cell_type": "markdown",
   "id": "613c6035-8fca-4210-ad35-30d62d445942",
   "metadata": {},
   "source": [
    "# Data Science Tools and Ecosystem"
   ]
  },
  {
   "cell_type": "code",
   "execution_count": null,
   "id": "29131e8a-2f5e-489a-a75d-d21b6a238aa2",
   "metadata": {},
   "outputs": [],
   "source": [
    "**Introduction:**\n",
    "This notebook entails a summary of Data Science Tools and Ecosystem\n"
   ]
  },
  {
   "cell_type": "markdown",
   "id": "27499bfb-41c5-4a23-a2a2-c0e485ffd23f",
   "metadata": {},
   "source": [
    "**Objectives:**\n",
    "- List popular languages for Data Science\n",
    "- List data science libraries\n",
    "- Create a single column table listing Data Science tools\n",
    "- Evaluate arithmetic expressions in Python"
   ]
  },
  {
   "cell_type": "markdown",
   "id": "09e9b806-95b0-4ed8-a120-93feebe51595",
   "metadata": {},
   "source": [
    "Some of the popular languages that Data Scientists use are:\n",
    "1. Python\n",
    "2. R\n",
    "3. SQL"
   ]
  },
  {
   "cell_type": "markdown",
   "id": "ff2f3048-c66f-4286-a6d4-5b3c5be60b12",
   "metadata": {},
   "source": [
    "Some of the commonly used libraries used by Data Scientists include:\n",
    "1. Pandas\n",
    "2. Matplotlib\n",
    "3.  Scikit-learn"
   ]
  },
  {
   "cell_type": "markdown",
   "id": "da5cde57-0a9c-4040-b9a8-43a4e319d668",
   "metadata": {},
   "source": [
    "|Data Science tools|\n",
    "|------------------|\n",
    "|Jupyter Notebook|\n",
    "|Python|\n",
    "|Apache Spark|\n",
    "|R|\n"
   ]
  },
  {
   "cell_type": "markdown",
   "id": "07e95dcb-06d1-4c8d-9d60-e0767fdc87ad",
   "metadata": {},
   "source": [
    "### Consider the examples below used in evaluating arithmetic expressions in Python\n",
    "2*(3*4)\n",
    "(2*3)*4\n",
    "6+(7+8)\n",
    "(6+7)+8\n",
    "(6+6)/2\n",
    "6+(6/2)"
   ]
  },
  {
   "cell_type": "markdown",
   "id": "d32b05ac-690a-4b0d-a641-631911953766",
   "metadata": {},
   "source": []
  },
  {
   "cell_type": "code",
   "execution_count": 5,
   "id": "1c48c314-8325-4454-a8d9-e134e3045caa",
   "metadata": {},
   "outputs": [
    {
     "data": {
      "text/plain": [
       "17"
      ]
     },
     "execution_count": 5,
     "metadata": {},
     "output_type": "execute_result"
    }
   ],
   "source": [
    "(3*4)+5\n",
    "#This a simple arithmetic expression to mutiply then add integers"
   ]
  },
  {
   "cell_type": "code",
   "execution_count": 7,
   "id": "2775abb0-48a0-485c-aa62-89ae8d7dfb0a",
   "metadata": {},
   "outputs": [
    {
     "data": {
      "text/plain": [
       "3.3333333333333335"
      ]
     },
     "execution_count": 7,
     "metadata": {},
     "output_type": "execute_result"
    }
   ],
   "source": [
    "# Below is an expression which converts 200 minutes to hours\n",
    "200/60"
   ]
  },
  {
   "cell_type": "markdown",
   "id": "d796ba9c-04d8-46bf-96f7-7e6d0807fb3c",
   "metadata": {},
   "source": [
    "## Author\n",
    "Michael Kofi Ahenkan"
   ]
  },
  {
   "cell_type": "code",
   "execution_count": null,
   "id": "8b4d3cec-63ae-4f31-8878-42205ff2f1e6",
   "metadata": {},
   "outputs": [],
   "source": []
  }
 ],
 "metadata": {
  "kernelspec": {
   "display_name": "Python 3 (ipykernel)",
   "language": "python",
   "name": "python3"
  },
  "language_info": {
   "codemirror_mode": {
    "name": "ipython",
    "version": 3
   },
   "file_extension": ".py",
   "mimetype": "text/x-python",
   "name": "python",
   "nbconvert_exporter": "python",
   "pygments_lexer": "ipython3",
   "version": "3.11.7"
  }
 },
 "nbformat": 4,
 "nbformat_minor": 5
}
